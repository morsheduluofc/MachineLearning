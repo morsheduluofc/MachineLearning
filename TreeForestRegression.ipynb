{
  "nbformat": 4,
  "nbformat_minor": 0,
  "metadata": {
    "colab": {
      "name": "TreeForestRegression.ipynb",
      "provenance": [],
      "collapsed_sections": [],
      "toc_visible": true,
      "authorship_tag": "ABX9TyMQ4d8nf8cWZF6PuWxAKiNf",
      "include_colab_link": true
    },
    "kernelspec": {
      "name": "python3",
      "display_name": "Python 3"
    },
    "language_info": {
      "name": "python"
    }
  },
  "cells": [
    {
      "cell_type": "markdown",
      "metadata": {
        "id": "view-in-github",
        "colab_type": "text"
      },
      "source": [
        "<a href=\"https://colab.research.google.com/github/morsheduluofc/MachineLearning/blob/main/TreeForestRegression.ipynb\" target=\"_parent\"><img src=\"https://colab.research.google.com/assets/colab-badge.svg\" alt=\"Open In Colab\"/></a>"
      ]
    },
    {
      "cell_type": "markdown",
      "metadata": {
        "id": "EbSAmUSgcEr7"
      },
      "source": [
        "# **Decision Tree and Random Forest Regression**\n",
        "\n",
        "-- Decision tree link: https://towardsdatascience.com/machine-learning-basics-decision-tree-regression-1d73ea003fda\n",
        "\n",
        "-- Random Forest link: https://towardsdatascience.com/machine-learning-basics-random-forest-regression-be3e1e3bb91a\n",
        "\n",
        "-- Ensamble learning and boosting: https://towardsdatascience.com/basic-ensemble-learning-random-forest-adaboost-gradient-boosting-step-by-step-explained-95d49d1e2725"
      ]
    },
    {
      "cell_type": "code",
      "metadata": {
        "id": "wawn7KBvcAb9"
      },
      "source": [
        "# All libraries\n",
        "import pandas as pd\n",
        "import numpy as np\n",
        "import matplotlib.pyplot as plt "
      ],
      "execution_count": null,
      "outputs": []
    },
    {
      "cell_type": "code",
      "metadata": {
        "id": "WtN4pTG-cyXx"
      },
      "source": [
        "data=pd.read_csv('https://raw.githubusercontent.com/mk-gurucharan/Regression/master/IceCreamData.csv')"
      ],
      "execution_count": null,
      "outputs": []
    },
    {
      "cell_type": "code",
      "metadata": {
        "colab": {
          "base_uri": "https://localhost:8080/"
        },
        "id": "ukNh-B0Cc-WL",
        "outputId": "0cfea35f-7672-43c8-abdd-d625af10a65d"
      },
      "source": [
        "data.columns"
      ],
      "execution_count": null,
      "outputs": [
        {
          "output_type": "execute_result",
          "data": {
            "text/plain": [
              "Index(['Temperature', 'Revenue'], dtype='object')"
            ]
          },
          "metadata": {
            "tags": []
          },
          "execution_count": 39
        }
      ]
    },
    {
      "cell_type": "code",
      "metadata": {
        "colab": {
          "base_uri": "https://localhost:8080/",
          "height": 204
        },
        "id": "p674t3DMdBsp",
        "outputId": "572216fa-d566-44a2-e94f-0b4b1d94151f"
      },
      "source": [
        "data.head()"
      ],
      "execution_count": null,
      "outputs": [
        {
          "output_type": "execute_result",
          "data": {
            "text/html": [
              "<div>\n",
              "<style scoped>\n",
              "    .dataframe tbody tr th:only-of-type {\n",
              "        vertical-align: middle;\n",
              "    }\n",
              "\n",
              "    .dataframe tbody tr th {\n",
              "        vertical-align: top;\n",
              "    }\n",
              "\n",
              "    .dataframe thead th {\n",
              "        text-align: right;\n",
              "    }\n",
              "</style>\n",
              "<table border=\"1\" class=\"dataframe\">\n",
              "  <thead>\n",
              "    <tr style=\"text-align: right;\">\n",
              "      <th></th>\n",
              "      <th>Temperature</th>\n",
              "      <th>Revenue</th>\n",
              "    </tr>\n",
              "  </thead>\n",
              "  <tbody>\n",
              "    <tr>\n",
              "      <th>0</th>\n",
              "      <td>24.566884</td>\n",
              "      <td>534.799028</td>\n",
              "    </tr>\n",
              "    <tr>\n",
              "      <th>1</th>\n",
              "      <td>26.005191</td>\n",
              "      <td>625.190122</td>\n",
              "    </tr>\n",
              "    <tr>\n",
              "      <th>2</th>\n",
              "      <td>27.790554</td>\n",
              "      <td>660.632289</td>\n",
              "    </tr>\n",
              "    <tr>\n",
              "      <th>3</th>\n",
              "      <td>20.595335</td>\n",
              "      <td>487.706960</td>\n",
              "    </tr>\n",
              "    <tr>\n",
              "      <th>4</th>\n",
              "      <td>11.503498</td>\n",
              "      <td>316.240194</td>\n",
              "    </tr>\n",
              "  </tbody>\n",
              "</table>\n",
              "</div>"
            ],
            "text/plain": [
              "   Temperature     Revenue\n",
              "0    24.566884  534.799028\n",
              "1    26.005191  625.190122\n",
              "2    27.790554  660.632289\n",
              "3    20.595335  487.706960\n",
              "4    11.503498  316.240194"
            ]
          },
          "metadata": {
            "tags": []
          },
          "execution_count": 40
        }
      ]
    },
    {
      "cell_type": "code",
      "metadata": {
        "colab": {
          "base_uri": "https://localhost:8080/"
        },
        "id": "LgptlH78dD5Y",
        "outputId": "0263dbb7-7ccd-4946-9459-56aabec71102"
      },
      "source": [
        "data.isnull().sum()"
      ],
      "execution_count": null,
      "outputs": [
        {
          "output_type": "execute_result",
          "data": {
            "text/plain": [
              "Temperature    0\n",
              "Revenue        0\n",
              "dtype: int64"
            ]
          },
          "metadata": {
            "tags": []
          },
          "execution_count": 41
        }
      ]
    },
    {
      "cell_type": "code",
      "metadata": {
        "colab": {
          "base_uri": "https://localhost:8080/"
        },
        "id": "D_WadyxmdHgw",
        "outputId": "46d977e5-7ab6-43c1-bb33-47569d0207fc"
      },
      "source": [
        "X=data['Temperature'].values\n",
        "y=data['Revenue'].values\n",
        "print(X.shape)\n",
        "print(y.shape)"
      ],
      "execution_count": null,
      "outputs": [
        {
          "output_type": "stream",
          "text": [
            "(500,)\n",
            "(500,)\n"
          ],
          "name": "stdout"
        }
      ]
    },
    {
      "cell_type": "code",
      "metadata": {
        "colab": {
          "base_uri": "https://localhost:8080/",
          "height": 282
        },
        "id": "J6gGM0Nzd4U6",
        "outputId": "345cae98-3425-4e41-afd7-e48b52b209e0"
      },
      "source": [
        "plt.scatter(X,y)"
      ],
      "execution_count": null,
      "outputs": [
        {
          "output_type": "execute_result",
          "data": {
            "text/plain": [
              "<matplotlib.collections.PathCollection at 0x7facf2cf36d0>"
            ]
          },
          "metadata": {
            "tags": []
          },
          "execution_count": 43
        },
        {
          "output_type": "display_data",
          "data": {
            "image/png": "[encoded data removed]",
            "text/plain": [
              "<Figure size 432x288 with 1 Axes>"
            ]
          },
          "metadata": {
            "tags": [],
            "needs_background": "light"
          }
        }
      ]
    },
    {
      "cell_type": "code",
      "metadata": {
        "id": "g0dEmsJQdh6R"
      },
      "source": [
        "from sklearn.model_selection import train_test_split\n",
        "X_train,X_test,y_train,y_test=train_test_split(X,y,test_size=0.2,random_state=2)"
      ],
      "execution_count": null,
      "outputs": []
    },
    {
      "cell_type": "code",
      "metadata": {
        "colab": {
          "base_uri": "https://localhost:8080/"
        },
        "id": "2_RHs1yReILC",
        "outputId": "3b506989-469d-4e7a-be6e-e45597a8ed58"
      },
      "source": [
        "from sklearn.tree import DecisionTreeRegressor\n",
        "reg=DecisionTreeRegressor()\n",
        "reg.fit(X_train.reshape(-1,1),y_train.reshape(-1,1))"
      ],
      "execution_count": null,
      "outputs": [
        {
          "output_type": "execute_result",
          "data": {
            "text/plain": [
              "DecisionTreeRegressor(ccp_alpha=0.0, criterion='mse', max_depth=None,\n",
              "                      max_features=None, max_leaf_nodes=None,\n",
              "                      min_impurity_decrease=0.0, min_impurity_split=None,\n",
              "                      min_samples_leaf=1, min_samples_split=2,\n",
              "                      min_weight_fraction_leaf=0.0, presort='deprecated',\n",
              "                      random_state=None, splitter='best')"
            ]
          },
          "metadata": {
            "tags": []
          },
          "execution_count": 45
        }
      ]
    },
    {
      "cell_type": "code",
      "metadata": {
        "id": "oFw217X6ejdx"
      },
      "source": [
        "y_result=reg.predict(X_test.reshape(-1,1))"
      ],
      "execution_count": null,
      "outputs": []
    },
    {
      "cell_type": "code",
      "metadata": {
        "colab": {
          "base_uri": "https://localhost:8080/"
        },
        "id": "UX336DFCkQkn",
        "outputId": "d067809d-a970-4c55-c379-6b5328150458"
      },
      "source": [
        "reg.score(X_test.reshape(-1,1),y_test)"
      ],
      "execution_count": null,
      "outputs": [
        {
          "output_type": "execute_result",
          "data": {
            "text/plain": [
              "0.9438042832889724"
            ]
          },
          "metadata": {
            "tags": []
          },
          "execution_count": 47
        }
      ]
    },
    {
      "cell_type": "code",
      "metadata": {
        "colab": {
          "base_uri": "https://localhost:8080/",
          "height": 419
        },
        "id": "rJmG8kxGetPO",
        "outputId": "ac50c685-a0e6-4278-fa6c-90c7f7b3070f"
      },
      "source": [
        "dframe=pd.DataFrame({'Original data':y_test,'Calculated data':y_result})\n",
        "dframe"
      ],
      "execution_count": null,
      "outputs": [
        {
          "output_type": "execute_result",
          "data": {
            "text/html": [
              "<div>\n",
              "<style scoped>\n",
              "    .dataframe tbody tr th:only-of-type {\n",
              "        vertical-align: middle;\n",
              "    }\n",
              "\n",
              "    .dataframe tbody tr th {\n",
              "        vertical-align: top;\n",
              "    }\n",
              "\n",
              "    .dataframe thead th {\n",
              "        text-align: right;\n",
              "    }\n",
              "</style>\n",
              "<table border=\"1\" class=\"dataframe\">\n",
              "  <thead>\n",
              "    <tr style=\"text-align: right;\">\n",
              "      <th></th>\n",
              "      <th>Original data</th>\n",
              "      <th>Calculated data</th>\n",
              "    </tr>\n",
              "  </thead>\n",
              "  <tbody>\n",
              "    <tr>\n",
              "      <th>0</th>\n",
              "      <td>751.054570</td>\n",
              "      <td>739.387272</td>\n",
              "    </tr>\n",
              "    <tr>\n",
              "      <th>1</th>\n",
              "      <td>607.839194</td>\n",
              "      <td>726.233771</td>\n",
              "    </tr>\n",
              "    <tr>\n",
              "      <th>2</th>\n",
              "      <td>684.158444</td>\n",
              "      <td>746.946389</td>\n",
              "    </tr>\n",
              "    <tr>\n",
              "      <th>3</th>\n",
              "      <td>583.855231</td>\n",
              "      <td>550.701404</td>\n",
              "    </tr>\n",
              "    <tr>\n",
              "      <th>4</th>\n",
              "      <td>528.116240</td>\n",
              "      <td>483.489769</td>\n",
              "    </tr>\n",
              "    <tr>\n",
              "      <th>...</th>\n",
              "      <td>...</td>\n",
              "      <td>...</td>\n",
              "    </tr>\n",
              "    <tr>\n",
              "      <th>95</th>\n",
              "      <td>322.983977</td>\n",
              "      <td>381.803014</td>\n",
              "    </tr>\n",
              "    <tr>\n",
              "      <th>96</th>\n",
              "      <td>719.471701</td>\n",
              "      <td>642.227291</td>\n",
              "    </tr>\n",
              "    <tr>\n",
              "      <th>97</th>\n",
              "      <td>898.805423</td>\n",
              "      <td>935.717291</td>\n",
              "    </tr>\n",
              "    <tr>\n",
              "      <th>98</th>\n",
              "      <td>690.789296</td>\n",
              "      <td>704.281439</td>\n",
              "    </tr>\n",
              "    <tr>\n",
              "      <th>99</th>\n",
              "      <td>618.235766</td>\n",
              "      <td>682.752869</td>\n",
              "    </tr>\n",
              "  </tbody>\n",
              "</table>\n",
              "<p>100 rows × 2 columns</p>\n",
              "</div>"
            ],
            "text/plain": [
              "    Original data  Calculated data\n",
              "0      751.054570       739.387272\n",
              "1      607.839194       726.233771\n",
              "2      684.158444       746.946389\n",
              "3      583.855231       550.701404\n",
              "4      528.116240       483.489769\n",
              "..            ...              ...\n",
              "95     322.983977       381.803014\n",
              "96     719.471701       642.227291\n",
              "97     898.805423       935.717291\n",
              "98     690.789296       704.281439\n",
              "99     618.235766       682.752869\n",
              "\n",
              "[100 rows x 2 columns]"
            ]
          },
          "metadata": {
            "tags": []
          },
          "execution_count": 48
        }
      ]
    },
    {
      "cell_type": "code",
      "metadata": {
        "colab": {
          "base_uri": "https://localhost:8080/",
          "height": 295
        },
        "id": "y7q4NiZYfM4x",
        "outputId": "827f1ef0-599d-438f-f055-39e1f17228ad"
      },
      "source": [
        "def Visulize_data():\n",
        "  plt.scatter(X_test, y_test,color='green')\n",
        "  plt.scatter(X_test, y_result,color='red')\n",
        "  plt.title('Dicision Tree Regression')\n",
        "  plt.xlabel('Temperature')\n",
        "  plt.ylabel('Revenue')\n",
        "  plt.show()\n",
        "\n",
        "Visulize_data()"
      ],
      "execution_count": null,
      "outputs": [
        {
          "output_type": "display_data",
          "data": {
            "image/png": "[encoded data removed]",
            "text/plain": [
              "<Figure size 432x288 with 1 Axes>"
            ]
          },
          "metadata": {
            "tags": [],
            "needs_background": "light"
          }
        }
      ]
    },
    {
      "cell_type": "code",
      "metadata": {
        "colab": {
          "base_uri": "https://localhost:8080/"
        },
        "id": "CeEAsPmTjSv2",
        "outputId": "09745dc1-85d4-4f10-8196-cbda58b76c14"
      },
      "source": [
        "from sklearn.ensemble import RandomForestRegressor\n",
        "reg=RandomForestRegressor(n_estimators=10, random_state=2)\n",
        "reg.fit(X_train.reshape(-1,1),y_train)"
      ],
      "execution_count": null,
      "outputs": [
        {
          "output_type": "execute_result",
          "data": {
            "text/plain": [
              "RandomForestRegressor(bootstrap=True, ccp_alpha=0.0, criterion='mse',\n",
              "                      max_depth=None, max_features='auto', max_leaf_nodes=None,\n",
              "                      max_samples=None, min_impurity_decrease=0.0,\n",
              "                      min_impurity_split=None, min_samples_leaf=1,\n",
              "                      min_samples_split=2, min_weight_fraction_leaf=0.0,\n",
              "                      n_estimators=10, n_jobs=None, oob_score=False,\n",
              "                      random_state=2, verbose=0, warm_start=False)"
            ]
          },
          "metadata": {
            "tags": []
          },
          "execution_count": 50
        }
      ]
    },
    {
      "cell_type": "code",
      "metadata": {
        "id": "HPOzhLnwj4oN"
      },
      "source": [
        "y_result=reg.predict(X_test.reshape(-1,1))"
      ],
      "execution_count": null,
      "outputs": []
    },
    {
      "cell_type": "code",
      "metadata": {
        "colab": {
          "base_uri": "https://localhost:8080/"
        },
        "id": "bagWpdSMkHOH",
        "outputId": "f5588549-9afe-49e4-9b95-32d457fa1f49"
      },
      "source": [
        "reg.score(X_test.reshape(-1,1),y_test)"
      ],
      "execution_count": null,
      "outputs": [
        {
          "output_type": "execute_result",
          "data": {
            "text/plain": [
              "0.9594716921671099"
            ]
          },
          "metadata": {
            "tags": []
          },
          "execution_count": 52
        }
      ]
    },
    {
      "cell_type": "code",
      "metadata": {
        "colab": {
          "base_uri": "https://localhost:8080/",
          "height": 419
        },
        "id": "trBDMlLnj9CC",
        "outputId": "5161a1b0-19a1-44fb-b493-62f9edd1a76d"
      },
      "source": [
        "dframe=pd.DataFrame({'Original data':y_test,'Calculated data':y_result})\n",
        "dframe"
      ],
      "execution_count": null,
      "outputs": [
        {
          "output_type": "execute_result",
          "data": {
            "text/html": [
              "<div>\n",
              "<style scoped>\n",
              "    .dataframe tbody tr th:only-of-type {\n",
              "        vertical-align: middle;\n",
              "    }\n",
              "\n",
              "    .dataframe tbody tr th {\n",
              "        vertical-align: top;\n",
              "    }\n",
              "\n",
              "    .dataframe thead th {\n",
              "        text-align: right;\n",
              "    }\n",
              "</style>\n",
              "<table border=\"1\" class=\"dataframe\">\n",
              "  <thead>\n",
              "    <tr style=\"text-align: right;\">\n",
              "      <th></th>\n",
              "      <th>Original data</th>\n",
              "      <th>Calculated data</th>\n",
              "    </tr>\n",
              "  </thead>\n",
              "  <tbody>\n",
              "    <tr>\n",
              "      <th>0</th>\n",
              "      <td>751.054570</td>\n",
              "      <td>740.119037</td>\n",
              "    </tr>\n",
              "    <tr>\n",
              "      <th>1</th>\n",
              "      <td>607.839194</td>\n",
              "      <td>687.065711</td>\n",
              "    </tr>\n",
              "    <tr>\n",
              "      <th>2</th>\n",
              "      <td>684.158444</td>\n",
              "      <td>741.923414</td>\n",
              "    </tr>\n",
              "    <tr>\n",
              "      <th>3</th>\n",
              "      <td>583.855231</td>\n",
              "      <td>562.151943</td>\n",
              "    </tr>\n",
              "    <tr>\n",
              "      <th>4</th>\n",
              "      <td>528.116240</td>\n",
              "      <td>507.197472</td>\n",
              "    </tr>\n",
              "    <tr>\n",
              "      <th>...</th>\n",
              "      <td>...</td>\n",
              "      <td>...</td>\n",
              "    </tr>\n",
              "    <tr>\n",
              "      <th>95</th>\n",
              "      <td>322.983977</td>\n",
              "      <td>360.641136</td>\n",
              "    </tr>\n",
              "    <tr>\n",
              "      <th>96</th>\n",
              "      <td>719.471701</td>\n",
              "      <td>656.893570</td>\n",
              "    </tr>\n",
              "    <tr>\n",
              "      <th>97</th>\n",
              "      <td>898.805423</td>\n",
              "      <td>920.705821</td>\n",
              "    </tr>\n",
              "    <tr>\n",
              "      <th>98</th>\n",
              "      <td>690.789296</td>\n",
              "      <td>702.333602</td>\n",
              "    </tr>\n",
              "    <tr>\n",
              "      <th>99</th>\n",
              "      <td>618.235766</td>\n",
              "      <td>678.300163</td>\n",
              "    </tr>\n",
              "  </tbody>\n",
              "</table>\n",
              "<p>100 rows × 2 columns</p>\n",
              "</div>"
            ],
            "text/plain": [
              "    Original data  Calculated data\n",
              "0      751.054570       740.119037\n",
              "1      607.839194       687.065711\n",
              "2      684.158444       741.923414\n",
              "3      583.855231       562.151943\n",
              "4      528.116240       507.197472\n",
              "..            ...              ...\n",
              "95     322.983977       360.641136\n",
              "96     719.471701       656.893570\n",
              "97     898.805423       920.705821\n",
              "98     690.789296       702.333602\n",
              "99     618.235766       678.300163\n",
              "\n",
              "[100 rows x 2 columns]"
            ]
          },
          "metadata": {
            "tags": []
          },
          "execution_count": 53
        }
      ]
    },
    {
      "cell_type": "code",
      "metadata": {
        "colab": {
          "base_uri": "https://localhost:8080/",
          "height": 295
        },
        "id": "y9Jcqw3PkBEl",
        "outputId": "64dbf8c1-d405-4cf1-d698-f9e85f88cf47"
      },
      "source": [
        "def Visulize_data():\n",
        "  plt.scatter(X_test, y_test,color='green')\n",
        "  plt.scatter(X_test, y_result,color='red')\n",
        "  plt.title('Random Forest Regression')\n",
        "  plt.xlabel('Temperature')\n",
        "  plt.ylabel('Revenue')\n",
        "  plt.show()\n",
        "\n",
        "Visulize_data()"
      ],
      "execution_count": null,
      "outputs": [
        {
          "output_type": "display_data",
          "data": {
            "image/png": "[encoded data removed]",
            "text/plain": [
              "<Figure size 432x288 with 1 Axes>"
            ]
          },
          "metadata": {
            "tags": [],
            "needs_background": "light"
          }
        }
      ]
    },
    {
      "cell_type": "markdown",
      "metadata": {
        "id": "u0qz_ADOvN51"
      },
      "source": [
        "# **Advantages and disatvantages of Ecah Regression Model:**\n",
        "\n",
        "-- **Linear Regression:**\n",
        ">- Works well irrespective of the data size\n",
        ">-Give informantion about the relevence of features\n",
        ">> - The assumptions of liner regression\n",
        "\n",
        "-- **Polynomial Regression:**\n",
        ">- Works well irrespective of the data size\n",
        ">- Works very well on non-linear problems\n",
        ">>- We need to choose the right polynomial degree for good bias/variance readeoff\n",
        "\n",
        "-- **Support Vector Regression:**\n",
        ">- Easily adaptable\n",
        ">- Works very well on non-linear problems\n",
        ">- Not bias by outlier\n",
        ">>- Compulsory to apply feature scaling\n",
        ">>- Not well known\n",
        ">>-Difficult to understand\n",
        "\n",
        "-- **Decision Tree Regression:**\n",
        ">- Interpretable\n",
        ">- Works well for both linear and non-linear problem\n",
        ">- No need to apply feature scaling\n",
        ">>-  Poor result on small data set\n",
        ">>- Overfitting can easily occure\n",
        "\n",
        "-- **Random Foresst Regression:**\n",
        ">- Powerful and accrate\n",
        ">- Good performance on many problem including non-linear\n",
        ">>- Not interpretable\n",
        ">>- Overfitting can easily occure\n",
        ">>- We need to choose the number of tree\n",
        "\n",
        "Source: https://www.geeksforgeeks.org/advantages-and-disadvantages-of-different-regression-models/"
      ]
    },
    {
      "cell_type": "markdown",
      "metadata": {
        "id": "DMiZhkqr5pXK"
      },
      "source": [
        "# **15 Type if Regression in DataScience**\n",
        "-- Linear Regression\n",
        "-- Polynomial Regression\n",
        "-- Logistic Regression\n",
        "-- Quantile Regression\n",
        "-- Ridge Regression\n",
        "-- Lasso Regression\n",
        "-- Elastic Net Regression\n",
        "-- Principal Components Regression (PCR)\n",
        "-- Partial Least Squares (PLS) Regression\n",
        "-- Support Vector Regression\n",
        "-- Ordinal Regression\n",
        "-- Poisson Regression\n",
        "-- Negative Binomial Regression\n",
        "-- Quasi Poisson Regression\n",
        "-- Cox Regression\n",
        "\n",
        "Source: https://www.listendata.com/2018/03/regression-analysis.html"
      ]
    }
  ]
}